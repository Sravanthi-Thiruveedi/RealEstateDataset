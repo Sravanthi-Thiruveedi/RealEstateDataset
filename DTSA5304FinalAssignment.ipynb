{
 "cells": [
  {
   "cell_type": "markdown",
   "id": "32dea536-d92a-4d65-ba50-3bbed6e3a07c",
   "metadata": {},
   "source": [
    "# **Real Estate Dataset** #"
   ]
  },
  {
   "cell_type": "markdown",
   "id": "907cc76c-3680-4469-9e1c-a42e7da0b2b8",
   "metadata": {},
   "source": [
    "## **Project Overview** ##"
   ]
  },
  {
   "attachments": {},
   "cell_type": "markdown",
   "id": "c143b347-f37c-4edc-a313-b5ed4e27bbf6",
   "metadata": {},
   "source": [
    "The Office of Policy and Management maintains a listing of all real estate sales with a sales price of $2,000 or greater that occur between October 1 and September 30 of each year. For each sale record, the file includes: town, property address, date of sale, property type (residential, apartment, commercial, industrial or vacant land), sales price, and property assessment."
   ]
  },
  {
   "cell_type": "markdown",
   "id": "ec872cc7-a3ef-4843-8769-1dd7f2f46c4f",
   "metadata": {},
   "source": [
    "## **Project Goal** ##"
   ]
  },
  {
   "attachments": {},
   "cell_type": "markdown",
   "id": "ff306f60-09b4-480e-97de-c9aa0a25cee5",
   "metadata": {},
   "source": [
    "The main goals of our design focus on:\n",
    "- Visualizing sales trends by year.\n",
    "- Identifying the top 10 towns with the highest total sale amounts.\n",
    "- Breaking down sales by property type each year.\n",
    "- Mapping town-wise total sales to show spatial distribution."
   ]
  },
  {
   "cell_type": "markdown",
   "id": "a16b2ca3-d779-419d-8de5-dbacdadc95c4",
   "metadata": {},
   "source": [
    "## **Data** ##"
   ]
  },
  {
   "cell_type": "markdown",
   "id": "4272e379-4d8c-4408-9907-53272bdec814",
   "metadata": {},
   "source": [
    "Data are collected in accordance with Connecticut General Statutes, section 10-261a and 10-261b: https://www.cga.ct.gov/current/pub/chap_172.htm#sec_10-261a and https://www.cga.ct.gov/current/pub/chap_172.htm#sec_10-261b. Annual real estate sales are reported by grand list year (October 1 through September 30 each year). \n",
    "\n",
    "Some municipalities may not report data for certain years because when a municipality implements a revaluation, they are not required to submit sales data for the twelve months following implementation."
   ]
  },
  {
   "cell_type": "markdown",
   "id": "3d36101d-65d0-42f8-aa31-2ea49c27476c",
   "metadata": {},
   "source": [
    "**Loading the Data**"
   ]
  },
  {
   "cell_type": "code",
   "execution_count": 1,
   "id": "541e0b44-08eb-4402-bfbe-730259f45d89",
   "metadata": {},
   "outputs": [
    {
     "name": "stdout",
     "output_type": "stream",
     "text": [
      "Requirement already satisfied: dash in /opt/anaconda3/lib/python3.12/site-packages (2.18.2)\n",
      "Requirement already satisfied: Flask<3.1,>=1.0.4 in /opt/anaconda3/lib/python3.12/site-packages (from dash) (3.0.3)\n",
      "Requirement already satisfied: Werkzeug<3.1 in /opt/anaconda3/lib/python3.12/site-packages (from dash) (3.0.3)\n",
      "Requirement already satisfied: plotly>=5.0.0 in /opt/anaconda3/lib/python3.12/site-packages (from dash) (5.24.1)\n",
      "Requirement already satisfied: dash-html-components==2.0.0 in /opt/anaconda3/lib/python3.12/site-packages (from dash) (2.0.0)\n",
      "Requirement already satisfied: dash-core-components==2.0.0 in /opt/anaconda3/lib/python3.12/site-packages (from dash) (2.0.0)\n",
      "Requirement already satisfied: dash-table==5.0.0 in /opt/anaconda3/lib/python3.12/site-packages (from dash) (5.0.0)\n",
      "Requirement already satisfied: importlib-metadata in /opt/anaconda3/lib/python3.12/site-packages (from dash) (7.0.1)\n",
      "Requirement already satisfied: typing-extensions>=4.1.1 in /opt/anaconda3/lib/python3.12/site-packages (from dash) (4.11.0)\n",
      "Requirement already satisfied: requests in /opt/anaconda3/lib/python3.12/site-packages (from dash) (2.32.3)\n",
      "Requirement already satisfied: retrying in /opt/anaconda3/lib/python3.12/site-packages (from dash) (1.3.4)\n",
      "Requirement already satisfied: nest-asyncio in /opt/anaconda3/lib/python3.12/site-packages (from dash) (1.6.0)\n",
      "Requirement already satisfied: setuptools in /opt/anaconda3/lib/python3.12/site-packages (from dash) (75.1.0)\n",
      "Requirement already satisfied: Jinja2>=3.1.2 in /opt/anaconda3/lib/python3.12/site-packages (from Flask<3.1,>=1.0.4->dash) (3.1.4)\n",
      "Requirement already satisfied: itsdangerous>=2.1.2 in /opt/anaconda3/lib/python3.12/site-packages (from Flask<3.1,>=1.0.4->dash) (2.2.0)\n",
      "Requirement already satisfied: click>=8.1.3 in /opt/anaconda3/lib/python3.12/site-packages (from Flask<3.1,>=1.0.4->dash) (8.1.7)\n",
      "Requirement already satisfied: blinker>=1.6.2 in /opt/anaconda3/lib/python3.12/site-packages (from Flask<3.1,>=1.0.4->dash) (1.6.2)\n",
      "Requirement already satisfied: tenacity>=6.2.0 in /opt/anaconda3/lib/python3.12/site-packages (from plotly>=5.0.0->dash) (8.2.3)\n",
      "Requirement already satisfied: packaging in /opt/anaconda3/lib/python3.12/site-packages (from plotly>=5.0.0->dash) (24.1)\n",
      "Requirement already satisfied: MarkupSafe>=2.1.1 in /opt/anaconda3/lib/python3.12/site-packages (from Werkzeug<3.1->dash) (2.1.3)\n",
      "Requirement already satisfied: zipp>=0.5 in /opt/anaconda3/lib/python3.12/site-packages (from importlib-metadata->dash) (3.17.0)\n",
      "Requirement already satisfied: charset-normalizer<4,>=2 in /opt/anaconda3/lib/python3.12/site-packages (from requests->dash) (3.3.2)\n",
      "Requirement already satisfied: idna<4,>=2.5 in /opt/anaconda3/lib/python3.12/site-packages (from requests->dash) (3.7)\n",
      "Requirement already satisfied: urllib3<3,>=1.21.1 in /opt/anaconda3/lib/python3.12/site-packages (from requests->dash) (2.2.3)\n",
      "Requirement already satisfied: certifi>=2017.4.17 in /opt/anaconda3/lib/python3.12/site-packages (from requests->dash) (2025.1.31)\n",
      "Requirement already satisfied: six>=1.7.0 in /opt/anaconda3/lib/python3.12/site-packages (from retrying->dash) (1.16.0)\n",
      "Note: you may need to restart the kernel to use updated packages.\n"
     ]
    }
   ],
   "source": [
    "pip install dash"
   ]
  },
  {
   "cell_type": "code",
   "execution_count": 2,
   "id": "8e97cbe2-03d7-4e40-bc0d-79d7915c74e1",
   "metadata": {},
   "outputs": [],
   "source": [
    "# import the required libraries\n",
    "import pandas as pd\n",
    "import warnings\n",
    "warnings.filterwarnings(\"ignore\")\n",
    "from dash import dcc, html, Dash, callback, Input, Output\n",
    "import plotly.express as px\n",
    "import plotly.graph_objects as go"
   ]
  },
  {
   "cell_type": "code",
   "execution_count": 3,
   "id": "d77f28ff-6435-4204-9e0d-03b2070b04f9",
   "metadata": {},
   "outputs": [],
   "source": [
    "# Loading the data\n",
    "data = pd.read_csv('RealEstateSales.csv')"
   ]
  },
  {
   "cell_type": "code",
   "execution_count": 4,
   "id": "8143f00c-a463-4a47-9b65-527f39d9b7ae",
   "metadata": {
    "scrolled": true
   },
   "outputs": [
    {
     "name": "stdout",
     "output_type": "stream",
     "text": [
      "<class 'pandas.core.frame.DataFrame'>\n",
      "RangeIndex: 1097628 entries, 0 to 1097627\n",
      "Data columns (total 17 columns):\n",
      " #   Column            Non-Null Count    Dtype  \n",
      "---  ------            --------------    -----  \n",
      " 0   Serial Number     1097628 non-null  int64  \n",
      " 1   List Year         1097628 non-null  int64  \n",
      " 2   Date Recorded     1097626 non-null  object \n",
      " 3   Town              1097628 non-null  object \n",
      " 4   Address           1097577 non-null  object \n",
      " 5   Assessed Value    1097628 non-null  float64\n",
      " 6   Sale Amount       1097628 non-null  float64\n",
      " 7   Sales Ratio       1097628 non-null  float64\n",
      " 8   Property Type     715182 non-null   object \n",
      " 9   Residential Type  699239 non-null   object \n",
      " 10  Non Use Code      313450 non-null   object \n",
      " 11  Assessor Remarks  171228 non-null   object \n",
      " 12  OPM remarks       13031 non-null    object \n",
      " 13  Location          298111 non-null   object \n",
      " 14  town_new          1097628 non-null  object \n",
      " 15  latitude          1097628 non-null  float64\n",
      " 16  longitude         1097628 non-null  float64\n",
      "dtypes: float64(5), int64(2), object(10)\n",
      "memory usage: 142.4+ MB\n"
     ]
    }
   ],
   "source": [
    "# Displaying the summary of dataset\n",
    "data.info()"
   ]
  },
  {
   "cell_type": "markdown",
   "id": "7f123872-3a08-46fd-bfe1-3b10cb988d2d",
   "metadata": {},
   "source": [
    "This dataset consists of 1.1M rows and 17 columns. The data contains both categorical and numerical features and each row is a real estate sale. Here's a breakdown of the data:\n",
    "\n",
    "Size:\n",
    "1097628 rows (instances)\n",
    "17 columns (attributes): 7 numerical, 10 categorical.\n",
    "\n",
    "- Serial Number: Serial Number.\n",
    "- List Year: Year the property was listed for sale.\n",
    "- Date Recorded: Date the sale was recorded locally.\n",
    "- Town: Town name.\n",
    "- Address: Address.\n",
    "- Assessed Value: Value of the property used for local tax assesment.\n",
    "- Sale Amount: Amount the property was sold for.\n",
    "- Sales Ratio: Ratio of the sale price to the assessed value.\n",
    "- Property Type: Type of property including: Residential, Commercial, Industrial, Apartments, Vacant, etc.\n",
    "- Residential Type: Indicates whether property is single or multifamily residential.\n",
    "- Non Use Code: Non usable sale code typically means the sale price is not reliable for use in the determination of a property value. See attachments in the dataset description page for a listing of codes.\n",
    "- Assessor Remarks: Remarks from the assessor.\n",
    "- OPM remarks: Remarks from OPM.\n",
    "- Location: Lat / lon coordinates.\n",
    "- town_new: town name and the state name.\n",
    "- latitude: latitude.\n",
    "- longitude: longitude."
   ]
  },
  {
   "cell_type": "markdown",
   "id": "2aafd006-10f5-4511-972d-daa84412a9d2",
   "metadata": {},
   "source": [
    "## **Data Cleaning** ##"
   ]
  },
  {
   "cell_type": "code",
   "execution_count": 5,
   "id": "f20374fe-def7-4dba-a34d-daa45272b13b",
   "metadata": {},
   "outputs": [
    {
     "data": {
      "text/plain": [
       "array(['Ansonia', 'Avon', 'Barkhamsted', 'Beacon Falls', 'Berlin',\n",
       "       'Bethel', 'Bethlehem', 'Bolton', 'Branford', 'Bristol',\n",
       "       'Brookfield', 'Burlington', 'Canton', 'Cheshire', 'Colchester',\n",
       "       'Coventry', 'Cromwell', 'Danbury', 'Darien', 'Derby',\n",
       "       'East Granby', 'East Haddam', 'East Hartford', 'East Haven',\n",
       "       'East Lyme', 'Easton', 'East Windsor', 'Enfield', 'Essex',\n",
       "       'Farmington', 'Franklin', 'Glastonbury', 'Goshen', 'Granby',\n",
       "       'Greenwich', 'Griswold', 'Groton', 'Guilford', 'Hartford',\n",
       "       'Harwinton', 'Killingly', 'Killingworth', 'Lebanon', 'Lisbon',\n",
       "       'Litchfield', 'Madison', 'Manchester', 'Mansfield', 'Meriden',\n",
       "       'Middlebury', 'Middletown', 'Milford', 'Monroe', 'Montville',\n",
       "       'Naugatuck', 'New Britain', 'New Canaan', 'New Fairfield',\n",
       "       'New Haven', 'New London', 'Newtown', 'North Canaan',\n",
       "       'North Haven', 'Norwalk', 'Norwich', 'Old Lyme', 'Old Saybrook',\n",
       "       'Orange', 'Plainfield', 'Plainville', 'Plymouth', 'Portland',\n",
       "       'Preston', 'Putnam', 'Rocky Hill', 'Salem', 'Sharon', 'Shelton',\n",
       "       'Simsbury', 'Southbury', 'South Windsor', 'Stamford', 'Stonington',\n",
       "       'Stratford', 'Suffield', 'Thomaston', 'Thompson', 'Tolland',\n",
       "       'Torrington', 'Trumbull', 'Vernon', 'Washington', 'Waterbury',\n",
       "       'Waterford', 'Watertown', 'Westbrook', 'West Hartford', 'Hampton',\n",
       "       'Wethersfield', 'Willington', 'Wilton', 'Winchester', 'Ashford',\n",
       "       'Windham', 'Windsor Locks', 'Wolcott', 'Woodbridge', 'Woodstock',\n",
       "       'Lyme', 'Colebrook', 'Bozrah', 'Bloomfield', 'Bridgeport',\n",
       "       'Bethany', 'Columbia', 'Bridgewater', 'Kent', 'Hebron', 'Eastford',\n",
       "       'Cornwall', 'Chaplin', 'Canaan', 'Andover', 'Chester', 'Hamden',\n",
       "       'Clinton', 'East Hampton', 'Hartland', 'Deep River', 'Fairfield',\n",
       "       'Brooklyn', 'Ridgefield', 'Redding', 'Middlefield', 'Morris',\n",
       "       'New Hartford', 'Sherman', 'Norfolk', 'Scotland', 'Sprague',\n",
       "       'Roxbury', 'Sterling', 'Somers', 'Newington', 'North Branford',\n",
       "       'Windsor', 'Weston', 'Warren', 'Woodbury', 'Ledyard',\n",
       "       'Wallingford', 'Union', 'Marlborough', 'Ellington', 'Canterbury',\n",
       "       'Stafford', 'Pomfret', 'West Haven', 'Westport', 'Oxford',\n",
       "       'Southington', 'New Milford', 'Voluntown', 'Durham', 'Seymour',\n",
       "       'Salisbury', 'Haddam', 'Prospect', 'North Stonington'],\n",
       "      dtype=object)"
      ]
     },
     "execution_count": 5,
     "metadata": {},
     "output_type": "execute_result"
    }
   ],
   "source": [
    "# Data Cleaning\n",
    "data_cleaned = data.drop(data[data['Town'] == '***Unknown***'].index)\n",
    "data_cleaned['Town'].unique()"
   ]
  },
  {
   "cell_type": "code",
   "execution_count": 6,
   "id": "03e70ab8-78e9-44f9-9ec0-3f9757ce89c9",
   "metadata": {},
   "outputs": [],
   "source": [
    "# imports external stylesheet and creates a Dash web app\n",
    "css = [\"https://cdn.jsdelivr.net/npm/bootstrap@5.3.1/dist/css/bootstrap.min.css\", ]\n",
    "app = Dash(name=\"RealEstateSales Dashboard\", external_stylesheets=css)"
   ]
  },
  {
   "cell_type": "code",
   "execution_count": 7,
   "id": "ffc5d856-06f2-4604-a15a-92bfc8dcb718",
   "metadata": {},
   "outputs": [],
   "source": [
    "# Create a table to show the sample data\n",
    "def create_table():\n",
    "    top_40_data = data_cleaned[['Serial Number','List Year','Date Recorded','Town', 'Address', 'Assessed Value','Sale Amount',\n",
    "                                'Sales Ratio','Property Type','Residential Type','Non Use Code','Assessor Remarks','OPM remarks',\n",
    "                                'Location','town_new','latitude','longitude']].head(40)\n",
    "\n",
    "    fig = go.Figure(data=[go.Table(\n",
    "        header=dict(values=top_40_data.columns, align='left', fill_color='lightgrey', font=dict(size=12)),\n",
    "        cells=dict(values=top_40_data.values.T, align='left', fill_color='white', font=dict(size=11))\n",
    "    )])\n",
    "\n",
    "    # Adjust layout for better auto-fitting\n",
    "    fig.update_layout(\n",
    "        paper_bgcolor=\"#e5ecf6\",\n",
    "        margin={\"t\": 0, \"l\": 0, \"r\": 0, \"b\": 0},\n",
    "        height=800,\n",
    "        autosize=True\n",
    "    )\n",
    "    return fig"
   ]
  },
  {
   "cell_type": "code",
   "execution_count": 8,
   "id": "a24f9d2b-4bc9-4803-bf66-b13cb837d95d",
   "metadata": {},
   "outputs": [],
   "source": [
    "# Town Sales by Year Chart\n",
    "def create_townsalesbyyear_chart(town=\"Andover\"):\n",
    "    filtered_df = data_cleaned[data_cleaned[\"Town\"] == town]\n",
    "    filtered_df = filtered_df.groupby(['Town','List Year'])['Serial Number'].count().reset_index(name = 'Number of Sales')\n",
    "    \n",
    "    fig = px.line(filtered_df, x=\"List Year\", y=\"Number of Sales\", #color=\"Town\",\n",
    "                  title=f\"Sale Amount for {town} Over the Years\")\n",
    "    \n",
    "    fig.update_layout(paper_bgcolor=\"#e5ecf6\", height=600)\n",
    "    return fig"
   ]
  },
  {
   "cell_type": "code",
   "execution_count": 9,
   "id": "0d00cda5-afa4-4ff1-b9e5-431cfeeed11f",
   "metadata": {},
   "outputs": [],
   "source": [
    "# Top 5 towns by Sale Amount\n",
    "def create_top5towns_chart(year=2022):\n",
    "    filtered_df = data_cleaned[data_cleaned[\"List Year\"] == year]\n",
    "    filtered_df = filtered_df.groupby(['Town','List Year'])['Sale Amount'].sum().reset_index(name = 'Total Sale Amount')\n",
    "    filtered_df['Total Sale Amount (Millions)'] = filtered_df['Total Sale Amount'].div(1_000_000).round(2)\n",
    "    filtered_df = filtered_df.sort_values(by = 'Total Sale Amount (Millions)', ascending=False).head(10)\n",
    " \n",
    "    fig = px.bar(filtered_df, x=\"Town\", y=\"Total Sale Amount (Millions)\", color=\"Town\",\n",
    "                   title=\"Top 10 Towns by Sale Amount in the year {}\".format(year),\n",
    "                   text_auto=True)\n",
    "    fig.update_layout(paper_bgcolor=\"#e5ecf6\", height=600)\n",
    "    return fig"
   ]
  },
  {
   "cell_type": "code",
   "execution_count": 10,
   "id": "1cdc7207-f14a-45ba-b93d-deb2d5b414ef",
   "metadata": {},
   "outputs": [],
   "source": [
    "# Number of Sales by Property Type \n",
    "def create_propertysales_chart(year=2022):\n",
    "    filtered_df = data_cleaned[data_cleaned[\"List Year\"] == year]\n",
    "    filtered_df = filtered_df.groupby(['Property Type','List Year'])['Serial Number'].count().reset_index(name = 'Number of Sales')\n",
    " \n",
    "    fig = px.pie(filtered_df, values='Number of Sales', names='Property Type', \n",
    "                 title ='Number of Sales by Property Type in the year {}'.format(year))\n",
    "    fig.update_layout(paper_bgcolor=\"#e5ecf6\", height=600)\n",
    "    \n",
    "    return fig"
   ]
  },
  {
   "cell_type": "code",
   "execution_count": 11,
   "id": "d50a18e2-4a81-4a78-ab38-9bccdedfdc1e",
   "metadata": {},
   "outputs": [],
   "source": [
    "filtered_df = data_cleaned.groupby(['town_new','latitude','longitude'])['Sale Amount'].sum().reset_index(name='Total Sales')\n",
    "filtered_df['Total Sales (M)'] = filtered_df['Total Sales'].div(1_000_000).round(2)\n",
    "# Function to create the map\n",
    "def create_salesonmap_chart():\n",
    "    fig = px.scatter_mapbox(\n",
    "        filtered_df,\n",
    "        lat=\"latitude\",\n",
    "        lon=\"longitude\",\n",
    "        size=\"Total Sales (M)\",\n",
    "        color=\"Total Sales (M)\",\n",
    "        center={\"lat\": 41.6032, \"lon\": -73.0877},\n",
    "        hover_name=\"town_new\",\n",
    "        title=\"Town-wise Sales\",\n",
    "        mapbox_style=\"carto-positron\"\n",
    "        ,zoom=8\n",
    "    )\n",
    "    return fig"
   ]
  },
  {
   "cell_type": "code",
   "execution_count": 12,
   "id": "caf136d5-cebe-4aa7-9ecb-c07bda39fbdd",
   "metadata": {},
   "outputs": [],
   "source": [
    "# Dropdown for selecting town\n",
    "towns = sorted(data_cleaned[\"Town\"].unique()) \n",
    "years = sorted(data_cleaned['List Year'].unique(),reverse = True)\n",
    "listyears_old = data_cleaned.drop(data_cleaned[data_cleaned['List Year'].isin([2001, 2002, 2003, 2004, 2005])].index)\n",
    "listyears = sorted(listyears_old['List Year'].unique(),reverse = True)\n",
    "                   \n",
    "cont_town = dcc.Dropdown(id=\"cont_town\",options=[{\"label\": town, \"value\": town} for town in towns], value=\"Andover\",clearable=False)\n",
    "cont_year = dcc.Dropdown(id=\"cont_year\",options=[{\"label\": year, \"value\": year} for year in years], value=2022,clearable=False)\n",
    "cont_proptypeyears = dcc.Dropdown(id=\"cont_proptypeyears\",options=[{\"label\": year, \"value\": year} for year in listyears], value=2022,clearable=False)"
   ]
  },
  {
   "cell_type": "code",
   "execution_count": 13,
   "id": "f274cb9d-d029-4c00-96f2-cd8f33523b12",
   "metadata": {},
   "outputs": [],
   "source": [
    "#app layout\n",
    "app.layout = html.Div([\n",
    "    html.Div([\n",
    "        html.H1(\"Real Estate Sales Dataset Analysis\", className=\"text-center fw-bold m-2\"),\n",
    "        html.Br(),\n",
    "        dcc.Tabs([\n",
    "            dcc.Tab([html.Br(),\n",
    "                     dcc.Graph(id=\"dataset\", figure=create_table())], label=\"Dataset\"),\n",
    "            dcc.Tab([html.Br(), \"Select Town\", cont_town, html.Br(),\n",
    "                     dcc.Graph(id=\"townwisesales\")],label=\"Year Wise Sales\"),\n",
    "            dcc.Tab([html.Br(), \"Select Year\", cont_year, html.Br(),\n",
    "                     dcc.Graph(id=\"top10towns\")], label=\"Town Wise Sales\"),\n",
    "            dcc.Tab([html.Br(), \"Select Year\", cont_proptypeyears, html.Br(),\n",
    "                     dcc.Graph(id=\"propertytypesales\")], label=\"Property Type Sales\"),\n",
    "            dcc.Tab([html.Br(), \n",
    "                     dcc.Graph(id=\"sales_map\",figure=create_salesonmap_chart())], label=\"Town Wise Sales Map\")\n",
    "        ])\n",
    "    ], className=\"col-8 mx-auto\"),\n",
    "], style={\"background-color\": \"#3e6eb2\", \"height\": \"150vh\"})"
   ]
  },
  {
   "cell_type": "code",
   "execution_count": 14,
   "id": "325405a8-a77a-4f31-9477-a2880def6937",
   "metadata": {},
   "outputs": [],
   "source": [
    "# Callbacks\n",
    "@callback(Output(\"townwisesales\", \"figure\"), [Input(\"cont_town\", \"value\")])\n",
    "def update_townsalesbyyear_chart(town):\n",
    "    return create_townsalesbyyear_chart(town)\n",
    "\n",
    "@callback(Output(\"top10towns\", \"figure\"), [Input(\"cont_year\", \"value\")])\n",
    "def update_top5towns_chart(year):\n",
    "    return create_top5towns_chart(year)\n",
    "\n",
    "@callback(Output(\"propertytypesales\", \"figure\"), [Input(\"cont_proptypeyears\", \"value\")])\n",
    "def update_propertysales_chart(year):\n",
    "    return create_propertysales_chart(year)"
   ]
  },
  {
   "cell_type": "code",
   "execution_count": 15,
   "id": "0fd2f9a2-4be5-46b3-8dd4-1e12e470b671",
   "metadata": {},
   "outputs": [
    {
     "data": {
      "text/html": [
       "\n",
       "        <iframe\n",
       "            width=\"100%\"\n",
       "            height=\"650\"\n",
       "            src=\"http://127.0.0.1:8050/\"\n",
       "            frameborder=\"0\"\n",
       "            allowfullscreen\n",
       "            \n",
       "        ></iframe>\n",
       "        "
      ],
      "text/plain": [
       "<IPython.lib.display.IFrame at 0x14ed4ef00>"
      ]
     },
     "metadata": {},
     "output_type": "display_data"
    }
   ],
   "source": [
    "if __name__ == \"__main__\":\n",
    "    app.run(debug=True)"
   ]
  },
  {
   "cell_type": "markdown",
   "id": "83436be5-6284-40c9-9047-67546507ca7d",
   "metadata": {},
   "source": [
    "## **Design Goals and Justification** ##"
   ]
  },
  {
   "cell_type": "markdown",
   "id": "730cfe12-0a75-4dae-8ba2-2df89ebe31db",
   "metadata": {},
   "source": [
    "**Visualizing Sales Trends by Year**:\n",
    "\n",
    "Design Approach:\n",
    "- Used a line chart to show how total sales fluctuate over time.\n",
    "- Added interactive filters for dynamic exploration.\n",
    "\n",
    "Justification:\n",
    "- Helps identify market trends, seasonal variations, and growth patterns.\n",
    "- Useful for realtors, investors, and policymakers to track sales performance.\n",
    "\n",
    "**Identifying the Top 10 Towns with the Highest Total Sale Amounts**:\n",
    "\n",
    "Design Approach:\n",
    "- Used a bar chart ranking towns by total sales amount.\n",
    "- Highlighted top towns with distinct colors.\n",
    "\n",
    "Justification:\n",
    "- Helps pinpoint high-value markets.\n",
    "- Investors and businesses can focus on lucrative locations.\n",
    "\n",
    "**Breaking Down Sales by Property Type Each Year**:\n",
    "\n",
    "Design Approach:\n",
    "- Used a pie chart to visualize the proportion of total sales by property type each year.\n",
    "- Implemented dropdown filters to select different years for comparison.\n",
    "\n",
    "Justification:\n",
    "- A pie chart clearly shows the distribution of sales across property types, making it easy to see the market share of each category.\n",
    "- It provides a simple, visual comparison of property type demand, aiding decision-making for developers and investors.\n",
    "\n",
    "**Mapping Town-wise Total Sales to Show Spatial Distribution**:\n",
    "\n",
    "Design Approach:\n",
    "- Used an interactive map using Plotly.\n",
    "- Colored towns based on total sales, with hover tooltips for extra details.\n",
    "\n",
    "Justification:\n",
    "- Helps visualize geographic sales disparities.\n",
    "- Useful for city planners and real estate agents to identify high-performing areas."
   ]
  },
  {
   "cell_type": "markdown",
   "id": "56eccc6d-149b-46eb-8a86-f0760e37c429",
   "metadata": {},
   "source": [
    "## **Final Evaluation Approach** ##"
   ]
  },
  {
   "cell_type": "markdown",
   "id": "ef9abb5b-ac02-419a-90cd-ddac6bce1746",
   "metadata": {},
   "source": [
    "The final evaluation involved user testing with 3 participants (friends, classmates, colleagues) who tested the dashboard's usability, clarity, and data communication effectiveness. Feedback indicated that the dashboard was intuitive and visually appealing, with positive responses to the interactive features and pie chart for sales breakdowns. Suggestions for improvement included adding detailed tooltips, annotations for trends, and optimizing color contrast for accessibility."
   ]
  },
  {
   "cell_type": "markdown",
   "id": "7869ba37-adc8-4dbb-bc96-510ed80e1faa",
   "metadata": {},
   "source": [
    "## **Synthesis of Findings** ##"
   ]
  },
  {
   "cell_type": "markdown",
   "id": "ec84f492-0760-4949-8a9f-ea0b3860eb0d",
   "metadata": {},
   "source": [
    "The interactive features, such as dropdown filters and the pie chart for property sales, worked well and engaged users effectively. However, future iterations should refine tooltips and annotations for better clarity, improve color contrast for accessibility, and adjust font sizes for better readability."
   ]
  },
  {
   "cell_type": "code",
   "execution_count": null,
   "id": "f8643b30-0040-4121-ba4b-5d1750fbd75a",
   "metadata": {},
   "outputs": [],
   "source": []
  }
 ],
 "metadata": {
  "kernelspec": {
   "display_name": "Python 3 (ipykernel)",
   "language": "python",
   "name": "python3"
  },
  "language_info": {
   "codemirror_mode": {
    "name": "ipython",
    "version": 3
   },
   "file_extension": ".py",
   "mimetype": "text/x-python",
   "name": "python",
   "nbconvert_exporter": "python",
   "pygments_lexer": "ipython3",
   "version": "3.12.7"
  }
 },
 "nbformat": 4,
 "nbformat_minor": 5
}
